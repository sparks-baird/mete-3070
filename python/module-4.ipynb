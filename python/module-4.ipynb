{
 "cells": [
  {
   "cell_type": "code",
   "execution_count": 1,
   "id": "28ea5f66",
   "metadata": {},
   "outputs": [],
   "source": [
    "# source: https://moonbooks.org/Articles/How-to-integrate-a-normal-distribution-in-python-/\n",
    "from scipy.integrate import quad\n",
    "\n",
    "import matplotlib.pyplot as plt\n",
    "import scipy.stats\n",
    "import numpy as np"
   ]
  },
  {
   "cell_type": "code",
   "execution_count": 10,
   "id": "65e02267",
   "metadata": {},
   "outputs": [
    {
     "data": {
      "text/plain": [
       "[<matplotlib.lines.Line2D at 0x1bf55e0bf70>]"
      ]
     },
     "execution_count": 10,
     "metadata": {},
     "output_type": "execute_result"
    },
    {
     "data": {
      "image/png": "[encoded data removed]",
      "text/plain": [
       "<Figure size 432x288 with 1 Axes>"
      ]
     },
     "metadata": {
      "needs_background": "light"
     },
     "output_type": "display_data"
    }
   ],
   "source": [
    "#----------------------------------------------------------------------------------------#\n",
    "# Normal Distribution\n",
    "\n",
    "x_min = -5\n",
    "x_max = 5\n",
    "\n",
    "mean = 0\n",
    "std = 1\n",
    "\n",
    "x = np.linspace(x_min, x_max, 100)\n",
    "\n",
    "y = scipy.stats.norm.pdf(x,mean,std)\n",
    "\n",
    "plt.plot(x,y, color='black')"
   ]
  },
  {
   "cell_type": "code",
   "execution_count": 11,
   "id": "d98b1a21",
   "metadata": {},
   "outputs": [],
   "source": [
    "#----------------------------------------------------------------------------------------#\n",
    "# integration between x1 and x2\n",
    "\n",
    "def normal_distribution_function(x):\n",
    "    value = scipy.stats.norm.pdf(x,mean,std)\n",
    "    return value"
   ]
  },
  {
   "cell_type": "code",
   "execution_count": 13,
   "id": "004cd362",
   "metadata": {},
   "outputs": [
    {
     "name": "stdout",
     "output_type": "stream",
     "text": [
      "Normal Distribution (mean,std): 0 1\n",
      "Integration bewteen -inf and 1.32 -->  0.9065824910065294\n",
      "0.90658\n"
     ]
    }
   ],
   "source": [
    "x1 = -np.inf\n",
    "x2 = 1.32\n",
    "\n",
    "res, err = quad(normal_distribution_function, x1, x2)\n",
    "\n",
    "print('Normal Distribution (mean,std):',mean,std)\n",
    "print('Integration bewteen {} and {} --> '.format(x1,x2),res)\n",
    "print(np.round(res,5))"
   ]
  },
  {
   "cell_type": "code",
   "execution_count": 14,
   "id": "a2d214d4",
   "metadata": {},
   "outputs": [],
   "source": [
    "def norm_integrate(x1, x2):\n",
    "    res, err = quad(normal_distribution_function, x1, x2)\n",
    "    return res"
   ]
  },
  {
   "cell_type": "code",
   "execution_count": 20,
   "id": "636cc21b",
   "metadata": {},
   "outputs": [
    {
     "name": "stdout",
     "output_type": "stream",
     "text": [
      "[0.90658 0.99653 0.07353 0.98422 0.95115]\n"
     ]
    }
   ],
   "source": [
    "probs = np.round([norm_integrate(-np.inf, 1.32),\n",
    "      norm_integrate(-np.inf, 2.7),\n",
    "      norm_integrate(1.45, np.inf),\n",
    "      norm_integrate(-2.15, np.inf),\n",
    "      norm_integrate(-2.34, 1.76)], 5)\n",
    "print(probs)"
   ]
  },
  {
   "cell_type": "code",
   "execution_count": 9,
   "id": "1fd0ef2a",
   "metadata": {},
   "outputs": [
    {
     "data": {
      "image/png": "[encoded data removed]",
      "text/plain": [
       "<Figure size 432x288 with 1 Axes>"
      ]
     },
     "metadata": {
      "needs_background": "light"
     },
     "output_type": "display_data"
    }
   ],
   "source": [
    "#----------------------------------------------------------------------------------------#\n",
    "# plot integration surface\n",
    "\n",
    "ptx = np.linspace(x1, x2, 10)\n",
    "pty = scipy.stats.norm.pdf(ptx,mean,std)\n",
    "\n",
    "plt.fill_between(ptx, pty, color='#0b559f', alpha=1.0)\n",
    "\n",
    "#----------------------------------------------------------------------------------------#\n",
    "\n",
    "plt.grid()\n",
    "\n",
    "plt.xlim(x_min,x_max)\n",
    "plt.ylim(0,0.25)\n",
    "\n",
    "plt.title('How to integrate a normal distribution in python ?',fontsize=10)\n",
    "\n",
    "plt.xlabel('x')\n",
    "plt.ylabel('Normal Distribution')\n",
    "\n",
    "plt.savefig(\"integrate_normal_distribution.png\")\n",
    "plt.show()"
   ]
  },
  {
   "cell_type": "code",
   "execution_count": null,
   "id": "9446032f",
   "metadata": {},
   "outputs": [],
   "source": []
  }
 ],
 "metadata": {
  "kernelspec": {
   "display_name": "Python 3 (ipykernel)",
   "language": "python",
   "name": "python3"
  },
  "language_info": {
   "codemirror_mode": {
    "name": "ipython",
    "version": 3
   },
   "file_extension": ".py",
   "mimetype": "text/x-python",
   "name": "python",
   "nbconvert_exporter": "python",
   "pygments_lexer": "ipython3",
   "version": "3.9.7"
  }
 },
 "nbformat": 4,
 "nbformat_minor": 5
}
