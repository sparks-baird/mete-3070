{
 "cells": [
  {
   "cell_type": "markdown",
   "id": "ac4c4d5b",
   "metadata": {},
   "source": [
    "# Histogram (automatic and manual methods)"
   ]
  },
  {
   "cell_type": "markdown",
   "id": "32a5c6b1",
   "metadata": {},
   "source": [
    "How to plot a histogram in Python. This goes over automatic methods (which is what you'll use in practice) and also digs a bit deeper into how to manually calculate the bin edges and counts in a histogram, similar to what is described in Files → Labs → [Guidelines to plot a histogram.pdf](https://utah.instructure.com/courses/722066/files/folder/Labs?preview=119193793)"
   ]
  },
  {
   "cell_type": "markdown",
   "id": "70919336",
   "metadata": {},
   "source": [
    "## Import Modules"
   ]
  },
  {
   "cell_type": "code",
   "execution_count": 68,
   "id": "d269ebfb",
   "metadata": {},
   "outputs": [],
   "source": [
    "%matplotlib inline\n",
    "from matplotlib.pyplot import hist\n",
    "import pandas as pd\n",
    "import numpy as np\n",
    "from math import ceil, sqrt\n",
    "import os"
   ]
  },
  {
   "cell_type": "markdown",
   "id": "69c1106d",
   "metadata": {},
   "source": [
    "## Read Data"
   ]
  },
  {
   "cell_type": "code",
   "execution_count": 5,
   "id": "d737abd8",
   "metadata": {},
   "outputs": [],
   "source": [
    "df = pd.read_excel(\"test_data.xlsx\")"
   ]
  },
  {
   "cell_type": "markdown",
   "id": "148ede42",
   "metadata": {},
   "source": [
    "## Plotting"
   ]
  },
  {
   "cell_type": "markdown",
   "id": "b567b17b",
   "metadata": {},
   "source": [
    "### Using Defaults (10 bins)"
   ]
  },
  {
   "cell_type": "code",
   "execution_count": 11,
   "id": "f03e62d1",
   "metadata": {},
   "outputs": [
    {
     "data": {
      "text/plain": [
       "<AxesSubplot:ylabel='Frequency'>"
      ]
     },
     "execution_count": 11,
     "metadata": {},
     "output_type": "execute_result"
    },
    {
     "data": {
      "image/png": "[encoded data removed]",
      "text/plain": [
       "<Figure size 432x288 with 1 Axes>"
      ]
     },
     "metadata": {
      "needs_background": "light"
     },
     "output_type": "display_data"
    }
   ],
   "source": [
    "df.plot.hist()"
   ]
  },
  {
   "cell_type": "markdown",
   "id": "84d887cf",
   "metadata": {},
   "source": [
    "At this point, we could be done, as we've plotted a histogram. The instructions for the assignment talk about using the square root estimator, however."
   ]
  },
  {
   "cell_type": "markdown",
   "id": "174dda32",
   "metadata": {},
   "source": [
    "### Using Square Root"
   ]
  },
  {
   "cell_type": "code",
   "execution_count": 59,
   "id": "01fec420",
   "metadata": {},
   "outputs": [
    {
     "data": {
      "text/plain": [
       "(array([2., 2., 7., 6., 5., 4.]),\n",
       " array([ 76.        , 104.16666667, 132.33333333, 160.5       ,\n",
       "        188.66666667, 216.83333333, 245.        ]),\n",
       " <BarContainer object of 6 artists>)"
      ]
     },
     "execution_count": 59,
     "metadata": {},
     "output_type": "execute_result"
    },
    {
     "data": {
      "image/png": "[encoded data removed]",
      "text/plain": [
       "<Figure size 432x288 with 1 Axes>"
      ]
     },
     "metadata": {
      "needs_background": "light"
     },
     "output_type": "display_data"
    }
   ],
   "source": [
    "hist(df, bins=\"sqrt\")"
   ]
  },
  {
   "cell_type": "markdown",
   "id": "0c61501b",
   "metadata": {},
   "source": [
    "At this point, we really are done, but let's take a look at other things we can do with the hist function and what's going on under the hood with determining the bin frequencies and bin edges."
   ]
  },
  {
   "cell_type": "markdown",
   "id": "bf542ea9",
   "metadata": {},
   "source": [
    "### Using \"Auto\" Number of Bins"
   ]
  },
  {
   "cell_type": "code",
   "execution_count": 13,
   "id": "bdd27d62",
   "metadata": {},
   "outputs": [
    {
     "data": {
      "text/plain": [
       "(array([2., 2., 7., 6., 5., 4.]),\n",
       " array([ 76.        , 104.16666667, 132.33333333, 160.5       ,\n",
       "        188.66666667, 216.83333333, 245.        ]),\n",
       " <BarContainer object of 6 artists>)"
      ]
     },
     "execution_count": 13,
     "metadata": {},
     "output_type": "execute_result"
    },
    {
     "data": {
      "image/png": "[encoded data removed]",
      "text/plain": [
       "<Figure size 432x288 with 1 Axes>"
      ]
     },
     "metadata": {
      "needs_background": "light"
     },
     "output_type": "display_data"
    }
   ],
   "source": [
    "hist(df, bins=\"auto\")"
   ]
  },
  {
   "cell_type": "markdown",
   "id": "88db6927",
   "metadata": {},
   "source": [
    "### Determine Bin Counts and Bin Edges using NumPy"
   ]
  },
  {
   "cell_type": "code",
   "execution_count": 16,
   "id": "8803a381",
   "metadata": {},
   "outputs": [
    {
     "name": "stdout",
     "output_type": "stream",
     "text": [
      "[2 2 7 6 5 4]\n",
      "[ 76.         104.16666667 132.33333333 160.5        188.66666667\n",
      " 216.83333333 245.        ]\n"
     ]
    }
   ],
   "source": [
    "counts, bins = np.histogram(df['column1'], bins=\"sqrt\")\n",
    "print(counts)\n",
    "print(bins)"
   ]
  },
  {
   "cell_type": "code",
   "execution_count": 17,
   "id": "f9661e5c",
   "metadata": {},
   "outputs": [
    {
     "data": {
      "text/plain": [
       "(array([2., 2., 7., 6., 5., 4.]),\n",
       " array([ 76.        , 104.16666667, 132.33333333, 160.5       ,\n",
       "        188.66666667, 216.83333333, 245.        ]),\n",
       " <BarContainer object of 6 artists>)"
      ]
     },
     "execution_count": 17,
     "metadata": {},
     "output_type": "execute_result"
    },
    {
     "data": {
      "image/png": "[encoded data removed]",
      "text/plain": [
       "<Figure size 432x288 with 1 Axes>"
      ]
     },
     "metadata": {
      "needs_background": "light"
     },
     "output_type": "display_data"
    }
   ],
   "source": [
    "hist(df, bins=bins)"
   ]
  },
  {
   "cell_type": "markdown",
   "id": "da4190f3",
   "metadata": {},
   "source": [
    "### Manually determine bin counts and edges"
   ]
  },
  {
   "cell_type": "markdown",
   "id": "d7ff6c5b",
   "metadata": {},
   "source": [
    "This mirrors the example on Canvas from Files → Labs → Lab1 → [Lab1-histogram.pdf](https://utah.instructure.com/courses/722066/files/folder/Labs/Lab1?preview=119193799)"
   ]
  },
  {
   "cell_type": "markdown",
   "id": "c65405ff",
   "metadata": {},
   "source": [
    "#### Dataset min, max, and length"
   ]
  },
  {
   "cell_type": "code",
   "execution_count": 20,
   "id": "ce44e4da",
   "metadata": {},
   "outputs": [
    {
     "name": "stdout",
     "output_type": "stream",
     "text": [
      "76 245\n",
      "26\n"
     ]
    }
   ],
   "source": [
    "col1 = df['column1']\n",
    "mn = min(col1)\n",
    "mx = max(col1)\n",
    "print(mn, mx)\n",
    "n = len(col1)\n",
    "print(n)"
   ]
  },
  {
   "cell_type": "markdown",
   "id": "ffa1d7f1",
   "metadata": {},
   "source": [
    "#### Number of bins (using square root), bin width, and bin edges"
   ]
  },
  {
   "cell_type": "code",
   "execution_count": 26,
   "id": "7730e080",
   "metadata": {},
   "outputs": [
    {
     "name": "stdout",
     "output_type": "stream",
     "text": [
      "6\n"
     ]
    }
   ],
   "source": [
    "nbins = ceil(sqrt(n))\n",
    "print(nbins)"
   ]
  },
  {
   "cell_type": "code",
   "execution_count": 27,
   "id": "8e93422f",
   "metadata": {},
   "outputs": [
    {
     "name": "stdout",
     "output_type": "stream",
     "text": [
      "28.166666666666668\n"
     ]
    }
   ],
   "source": [
    "binwidth = (mx-mn)/nbins\n",
    "print(binwidth)"
   ]
  },
  {
   "cell_type": "code",
   "execution_count": 29,
   "id": "332ef4fc",
   "metadata": {},
   "outputs": [],
   "source": [
    "bins = np.linspace(mn, mx, num=nbins+1)"
   ]
  },
  {
   "cell_type": "markdown",
   "id": "46fbcc38",
   "metadata": {},
   "source": [
    "#### Histogram using manually determined bin edges"
   ]
  },
  {
   "cell_type": "code",
   "execution_count": 30,
   "id": "f224b71b",
   "metadata": {},
   "outputs": [
    {
     "data": {
      "text/plain": [
       "(array([2., 2., 7., 6., 5., 4.]),\n",
       " array([ 76.        , 104.16666667, 132.33333333, 160.5       ,\n",
       "        188.66666667, 216.83333333, 245.        ]),\n",
       " <BarContainer object of 6 artists>)"
      ]
     },
     "execution_count": 30,
     "metadata": {},
     "output_type": "execute_result"
    },
    {
     "data": {
      "image/png": "[encoded data removed]",
      "text/plain": [
       "<Figure size 432x288 with 1 Axes>"
      ]
     },
     "metadata": {
      "needs_background": "light"
     },
     "output_type": "display_data"
    }
   ],
   "source": [
    "hist(df, bins=bins)"
   ]
  },
  {
   "cell_type": "markdown",
   "id": "e6c64228",
   "metadata": {},
   "source": [
    "### Histogram without using hist()"
   ]
  },
  {
   "cell_type": "markdown",
   "id": "88a7bf53",
   "metadata": {},
   "source": [
    "Find how the data fits into the bins."
   ]
  },
  {
   "cell_type": "code",
   "execution_count": 60,
   "id": "b1bbd358",
   "metadata": {},
   "outputs": [
    {
     "name": "stdout",
     "output_type": "stream",
     "text": [
      "[2 1 6 4 5 3 6 5 3 5 6 3 6 2 4 4 3 3 4 5 4 3 4 3 5 1]\n"
     ]
    }
   ],
   "source": [
    "ids = np.searchsorted(bins, col1)\n",
    "np.unique(ids)\n",
    "ids[ids==0]=1\n",
    "print(ids)"
   ]
  },
  {
   "cell_type": "markdown",
   "id": "66480105",
   "metadata": {},
   "source": [
    "Count up the frequencies"
   ]
  },
  {
   "cell_type": "code",
   "execution_count": 61,
   "id": "78e47eac",
   "metadata": {},
   "outputs": [
    {
     "name": "stdout",
     "output_type": "stream",
     "text": [
      "[2 2 7 6 5 4]\n"
     ]
    }
   ],
   "source": [
    "freq = np.bincount(ids)[1:]\n",
    "print(freq)"
   ]
  },
  {
   "cell_type": "markdown",
   "id": "12502218",
   "metadata": {},
   "source": [
    "Change the bin edges into pairs."
   ]
  },
  {
   "cell_type": "code",
   "execution_count": 65,
   "id": "7862b440",
   "metadata": {},
   "outputs": [
    {
     "name": "stdout",
     "output_type": "stream",
     "text": [
      "[(76.0, 104.16666666666667), (104.16666666666667, 132.33333333333334), (132.33333333333334, 160.5), (160.5, 188.66666666666669), (188.66666666666669, 216.83333333333334), (216.83333333333334, 245.0)]\n"
     ]
    }
   ],
   "source": [
    "ab = list(zip(bins[:-1], bins[1:]))\n",
    "print(ab)"
   ]
  },
  {
   "cell_type": "markdown",
   "id": "5e4dbd68",
   "metadata": {},
   "source": [
    "Find the center of each bin"
   ]
  },
  {
   "cell_type": "code",
   "execution_count": 66,
   "id": "59429aba",
   "metadata": {},
   "outputs": [],
   "source": [
    "bin_centers = [(a + b)/2 for a, b in ab]"
   ]
  },
  {
   "cell_type": "markdown",
   "id": "d504058d",
   "metadata": {},
   "source": [
    "Plot using the bin_centers, frequency values, and calculated bin width."
   ]
  },
  {
   "cell_type": "code",
   "execution_count": 64,
   "id": "6f5d7f2c",
   "metadata": {},
   "outputs": [
    {
     "data": {
      "text/plain": [
       "<BarContainer object of 6 artists>"
      ]
     },
     "execution_count": 64,
     "metadata": {},
     "output_type": "execute_result"
    },
    {
     "data": {
      "image/png": "[encoded data removed]",
      "text/plain": [
       "<Figure size 432x288 with 1 Axes>"
      ]
     },
     "metadata": {
      "needs_background": "light"
     },
     "output_type": "display_data"
    }
   ],
   "source": [
    "plt.bar(bin_centers, freq, width=binwidth)"
   ]
  },
  {
   "cell_type": "markdown",
   "id": "08209bed",
   "metadata": {},
   "source": [
    "Note that you should never really need to do this kind of \"manual\" plotting, but this illustrates how you would essentially calculate this \"by hand\", similar to the instructions shown on Canvas in the file linked above. In other words, plt.hist(df, bins=\"auto\") is pretty much all you'd need."
   ]
  },
  {
   "cell_type": "markdown",
   "id": "e9aeb458",
   "metadata": {},
   "source": [
    "## Print this notebook to PDF"
   ]
  },
  {
   "cell_type": "code",
   "execution_count": 69,
   "id": "2e2b2ad0",
   "metadata": {},
   "outputs": [
    {
     "data": {
      "text/plain": [
       "0"
      ]
     },
     "execution_count": 69,
     "metadata": {},
     "output_type": "execute_result"
    }
   ],
   "source": [
    "os.system(\"jupyter nbconvert --to pdf histogram-auto-vs-manual.ipynb\")"
   ]
  }
 ],
 "metadata": {
  "kernelspec": {
   "display_name": "Python 3",
   "language": "python",
   "name": "python3"
  },
  "language_info": {
   "codemirror_mode": {
    "name": "ipython",
    "version": 3
   },
   "file_extension": ".py",
   "mimetype": "text/x-python",
   "name": "python",
   "nbconvert_exporter": "python",
   "pygments_lexer": "ipython3",
   "version": "3.8.10"
  }
 },
 "nbformat": 4,
 "nbformat_minor": 5
}
