{
 "cells": [
  {
   "cell_type": "markdown",
   "id": "812d8c43",
   "metadata": {},
   "source": [
    "# Module 1"
   ]
  },
  {
   "cell_type": "markdown",
   "id": "bfcadfe2",
   "metadata": {},
   "source": [
    "## Setup"
   ]
  },
  {
   "cell_type": "code",
   "execution_count": 1,
   "id": "32bb42c3",
   "metadata": {},
   "outputs": [],
   "source": [
    "import numpy as np\n",
    "%matplotlib inline\n",
    "import matplotlib.pyplot as plt\n",
    "from scipy.stats import rv_discrete\n",
    "import os"
   ]
  },
  {
   "cell_type": "markdown",
   "id": "e2c38806",
   "metadata": {},
   "source": [
    "## Win / Loss"
   ]
  },
  {
   "cell_type": "code",
   "execution_count": 2,
   "id": "0de4e6b5",
   "metadata": {},
   "outputs": [
    {
     "data": {
      "text/plain": [
       "True"
      ]
     },
     "execution_count": 2,
     "metadata": {},
     "output_type": "execute_result"
    }
   ],
   "source": [
    "win_prob = 20/100\n",
    "loss_prob = 80/100\n",
    "win_prob + loss_prob == 1"
   ]
  },
  {
   "cell_type": "markdown",
   "id": "25b6c9c6",
   "metadata": {},
   "source": [
    "## Exam Scores"
   ]
  },
  {
   "cell_type": "code",
   "execution_count": 3,
   "id": "e5411c58",
   "metadata": {},
   "outputs": [],
   "source": [
    "scores = {\"50-60\": 20, \"61-80\": 30, \"81-100\": 50}"
   ]
  },
  {
   "cell_type": "code",
   "execution_count": 4,
   "id": "0bd31a01",
   "metadata": {},
   "outputs": [
    {
     "name": "stdout",
     "output_type": "stream",
     "text": [
      "[0.2 0.3 0.5]\n"
     ]
    }
   ],
   "source": [
    "tot = sum(scores.values())\n",
    "probs = np.divide(list(scores.values()),tot)\n",
    "print(probs)"
   ]
  },
  {
   "cell_type": "code",
   "execution_count": 5,
   "id": "a207dcd0",
   "metadata": {},
   "outputs": [
    {
     "data": {
      "text/plain": [
       "True"
      ]
     },
     "execution_count": 5,
     "metadata": {},
     "output_type": "execute_result"
    }
   ],
   "source": [
    "sum(probs) == 1"
   ]
  },
  {
   "cell_type": "markdown",
   "id": "650b3d7e",
   "metadata": {},
   "source": [
    "## Coin Toss"
   ]
  },
  {
   "cell_type": "code",
   "execution_count": 6,
   "id": "064e922d",
   "metadata": {},
   "outputs": [
    {
     "data": {
      "text/plain": [
       "'heads'"
      ]
     },
     "execution_count": 6,
     "metadata": {},
     "output_type": "execute_result"
    }
   ],
   "source": [
    "np.random.choice([\"heads\", \"tails\"])"
   ]
  },
  {
   "cell_type": "markdown",
   "id": "4dfe32ae",
   "metadata": {},
   "source": [
    "## Roll Dice"
   ]
  },
  {
   "cell_type": "code",
   "execution_count": 7,
   "id": "4c40c36d",
   "metadata": {},
   "outputs": [
    {
     "data": {
      "text/plain": [
       "3"
      ]
     },
     "execution_count": 7,
     "metadata": {},
     "output_type": "execute_result"
    }
   ],
   "source": [
    "np.random.randint(1,6)"
   ]
  },
  {
   "cell_type": "code",
   "execution_count": 8,
   "id": "ae9ae889",
   "metadata": {},
   "outputs": [],
   "source": [
    "def roll_dice(n):\n",
    "    return np.random.randint(1, 7, n)"
   ]
  },
  {
   "cell_type": "code",
   "execution_count": 9,
   "id": "397f523f",
   "metadata": {},
   "outputs": [],
   "source": [
    "rolls = [roll_dice(n) for n in [100, 10000, 1000000]]"
   ]
  },
  {
   "cell_type": "code",
   "execution_count": 10,
   "id": "837809ac",
   "metadata": {},
   "outputs": [
    {
     "data": {
      "image/png": "[encoded data removed]",
      "text/plain": [
       "<Figure size 432x288 with 1 Axes>"
      ]
     },
     "metadata": {
      "needs_background": "light"
     },
     "output_type": "display_data"
    }
   ],
   "source": [
    "plt.hist(rolls[0]);"
   ]
  },
  {
   "cell_type": "code",
   "execution_count": 11,
   "id": "b86379c0",
   "metadata": {},
   "outputs": [
    {
     "data": {
      "image/png": "[encoded data removed]",
      "text/plain": [
       "<Figure size 432x288 with 1 Axes>"
      ]
     },
     "metadata": {
      "needs_background": "light"
     },
     "output_type": "display_data"
    }
   ],
   "source": [
    "plt.hist(rolls[1]);"
   ]
  },
  {
   "cell_type": "code",
   "execution_count": 12,
   "id": "ca8668ed",
   "metadata": {},
   "outputs": [
    {
     "data": {
      "image/png": "[encoded data removed]",
      "text/plain": [
       "<Figure size 432x288 with 1 Axes>"
      ]
     },
     "metadata": {
      "needs_background": "light"
     },
     "output_type": "display_data"
    }
   ],
   "source": [
    "plt.hist(rolls[2]);"
   ]
  },
  {
   "cell_type": "code",
   "execution_count": 13,
   "id": "e81071f7",
   "metadata": {},
   "outputs": [],
   "source": [
    "p = 1/6\n",
    "di_probs = {i:p for i in range(1,7)}"
   ]
  },
  {
   "cell_type": "code",
   "execution_count": 14,
   "id": "b6f399ab",
   "metadata": {},
   "outputs": [
    {
     "data": {
      "text/plain": [
       "0.9999999999999999"
      ]
     },
     "execution_count": 14,
     "metadata": {},
     "output_type": "execute_result"
    }
   ],
   "source": [
    "sum(di_probs.values())"
   ]
  },
  {
   "cell_type": "markdown",
   "id": "d34cb0a8",
   "metadata": {},
   "source": [
    "## Digital Channel (Ex 3.5)"
   ]
  },
  {
   "cell_type": "code",
   "execution_count": 38,
   "id": "5170166e",
   "metadata": {},
   "outputs": [
    {
     "data": {
      "image/png": "[encoded data removed]",
      "text/plain": [
       "<Figure size 432x288 with 1 Axes>"
      ]
     },
     "metadata": {
      "needs_background": "light"
     },
     "output_type": "display_data"
    }
   ],
   "source": [
    "# modified from https://docs.scipy.org/doc/scipy/reference/generated/scipy.stats.rv_discrete.html\n",
    "xk = np.arange(5)\n",
    "pk = [0.6561, 0.2916, 0.0486, 0.0036, 0.0001]\n",
    "custm = rv_discrete(name='custm', values=(xk, pk))\n",
    "\n",
    "fig, ax = plt.subplots(1, 1)\n",
    "ax.plot(xk, custm.pmf(xk), 'ro', ms=12, mec='r')\n",
    "ax.vlines(xk, 0, custm.pmf(xk), colors='r', lw=4)\n",
    "plt.xlabel(\"Number of incorrect bits\")\n",
    "plt.ylabel(\"Probability\")\n",
    "plt.show()"
   ]
  },
  {
   "cell_type": "markdown",
   "id": "c06f7c21",
   "metadata": {},
   "source": [
    "### Cumulative Sum"
   ]
  },
  {
   "cell_type": "code",
   "execution_count": 39,
   "id": "3da15d69",
   "metadata": {},
   "outputs": [
    {
     "name": "stdout",
     "output_type": "stream",
     "text": [
      "[0.6561 0.9477 0.9963 0.9999 1.    ]\n"
     ]
    }
   ],
   "source": [
    "print(np.cumsum(pk))"
   ]
  },
  {
   "cell_type": "markdown",
   "id": "5738371d",
   "metadata": {},
   "source": [
    "### Expectation Value"
   ]
  },
  {
   "cell_type": "code",
   "execution_count": 40,
   "id": "8007b023",
   "metadata": {},
   "outputs": [
    {
     "name": "stdout",
     "output_type": "stream",
     "text": [
      "0.4\n"
     ]
    }
   ],
   "source": [
    "mu = np.dot(xk, pk)\n",
    "print(mu)"
   ]
  },
  {
   "cell_type": "markdown",
   "id": "4331ac8c",
   "metadata": {},
   "source": [
    "### Variance"
   ]
  },
  {
   "cell_type": "code",
   "execution_count": 41,
   "id": "f28c5a1b",
   "metadata": {},
   "outputs": [
    {
     "name": "stdout",
     "output_type": "stream",
     "text": [
      "0.3600000000000001\n"
     ]
    }
   ],
   "source": [
    "var = sum([p*(x-mu)**2 for x, p in zip(xk, pk)])\n",
    "print(var)"
   ]
  },
  {
   "cell_type": "markdown",
   "id": "14e1cd3e",
   "metadata": {},
   "source": [
    "Note that np.var() calculates the population variance with equal weights (assuming default arguments for np.var()). Notice that the result is incorrect."
   ]
  },
  {
   "cell_type": "code",
   "execution_count": 42,
   "id": "53803b97",
   "metadata": {},
   "outputs": [
    {
     "data": {
      "text/plain": [
       "0.06357454"
      ]
     },
     "execution_count": 42,
     "metadata": {},
     "output_type": "execute_result"
    }
   ],
   "source": [
    "np.var(pk)"
   ]
  },
  {
   "cell_type": "markdown",
   "id": "8ad70ec9",
   "metadata": {},
   "source": [
    "#### Helper Function for Mean and Variance"
   ]
  },
  {
   "cell_type": "code",
   "execution_count": 43,
   "id": "cb6c78d1",
   "metadata": {},
   "outputs": [],
   "source": [
    "def dist_mean_var(xk, pk):\n",
    "    mu = np.dot(xk, pk)\n",
    "    var = sum([p*(x-mu)**2 for x, p in zip(xk, pk)])\n",
    "    return mu, var"
   ]
  },
  {
   "cell_type": "markdown",
   "id": "9a6ea7c7",
   "metadata": {},
   "source": [
    "### Standard Deviation"
   ]
  },
  {
   "cell_type": "code",
   "execution_count": 44,
   "id": "5c6cebd7",
   "metadata": {},
   "outputs": [
    {
     "data": {
      "text/plain": [
       "0.6000000000000001"
      ]
     },
     "execution_count": 44,
     "metadata": {},
     "output_type": "execute_result"
    }
   ],
   "source": [
    "np.sqrt(var)"
   ]
  },
  {
   "cell_type": "code",
   "execution_count": 45,
   "id": "dc2f8e48",
   "metadata": {},
   "outputs": [
    {
     "name": "stdout",
     "output_type": "stream",
     "text": [
      "0.4 0.3600000000000001\n"
     ]
    }
   ],
   "source": [
    "mu, var = dist_mean_var(xk, pk)\n",
    "print(mu, var)"
   ]
  },
  {
   "cell_type": "markdown",
   "id": "22455406",
   "metadata": {},
   "source": [
    "## NiCd Battery (3.3.6)"
   ]
  },
  {
   "cell_type": "code",
   "execution_count": 24,
   "id": "e6777d7e",
   "metadata": {},
   "outputs": [
    {
     "name": "stdout",
     "output_type": "stream",
     "text": [
      "[0.17 0.52 0.85 1.  ]\n"
     ]
    }
   ],
   "source": [
    "battery = {0: 0.17, 2: 0.35, 3: 0.33, 4: 0.15}\n",
    "charges = list(battery.keys())\n",
    "vals = list(battery.values())\n",
    "cdf = np.cumsum(vals)\n",
    "print(cdf)"
   ]
  },
  {
   "cell_type": "code",
   "execution_count": 25,
   "id": "9401a4f1",
   "metadata": {},
   "outputs": [],
   "source": [
    "n = 10000\n",
    "x = np.linspace(0, 5, num=n)\n",
    "c1 = (x >= 0) & (x < 2)\n",
    "c2 = (x >= 2) & (x < 3)\n",
    "c3 = (x >= 3) & (x < 4)\n",
    "c4 = x >= 4\n",
    "conds = [c1, c2, c3, c4]\n",
    "pw = np.piecewise(x, conds, cdf)"
   ]
  },
  {
   "cell_type": "code",
   "execution_count": 26,
   "id": "2fb34a5e",
   "metadata": {},
   "outputs": [
    {
     "data": {
      "text/plain": [
       "Text(0, 0.5, 'CDF')"
      ]
     },
     "execution_count": 26,
     "metadata": {},
     "output_type": "execute_result"
    },
    {
     "data": {
      "image/png": "[encoded data removed]",
      "text/plain": [
       "<Figure size 432x288 with 1 Axes>"
      ]
     },
     "metadata": {
      "needs_background": "light"
     },
     "output_type": "display_data"
    }
   ],
   "source": [
    "plt.scatter(x,pw)\n",
    "plt.xlabel(\"Nickel Charge\")\n",
    "plt.ylabel(\"CDF\")"
   ]
  },
  {
   "cell_type": "code",
   "execution_count": 27,
   "id": "2590787d",
   "metadata": {},
   "outputs": [
    {
     "name": "stdout",
     "output_type": "stream",
     "text": [
      "2.29 1.2559060474414476\n"
     ]
    }
   ],
   "source": [
    "mu, var = dist_mean_var(charges, vals)\n",
    "sigma = np.sqrt(var)\n",
    "print(mu, sigma)"
   ]
  },
  {
   "cell_type": "markdown",
   "id": "96b6beca",
   "metadata": {},
   "source": [
    "# Code Graveyard"
   ]
  },
  {
   "cell_type": "code",
   "execution_count": 28,
   "id": "8500270b",
   "metadata": {},
   "outputs": [],
   "source": [
    "n = 10000\n",
    "x = np.linspace(0, 100, num=n)\n",
    "c1 = (x >= 50) & (x <= 60)\n",
    "c2 = (x >= 61) & (x <= 80)\n",
    "c3 = (x >= 81) & (x <= 100)\n",
    "conds = [c1, c2, c3]\n",
    "vals = np.array([20/(60-50), 30/(80-61), 50/(100-81)])/n"
   ]
  },
  {
   "cell_type": "code",
   "execution_count": 29,
   "id": "5c72e9f6",
   "metadata": {},
   "outputs": [
    {
     "name": "stdout",
     "output_type": "stream",
     "text": [
      "[0.         0.         0.         ... 0.00026316 0.00026316 0.00026316]\n"
     ]
    }
   ],
   "source": [
    "pw = np.piecewise(x, conds, vals)\n",
    "print(pw)"
   ]
  },
  {
   "cell_type": "code",
   "execution_count": 30,
   "id": "e80c3e4d",
   "metadata": {},
   "outputs": [
    {
     "data": {
      "text/plain": [
       "0.9999999999999853"
      ]
     },
     "execution_count": 30,
     "metadata": {},
     "output_type": "execute_result"
    }
   ],
   "source": [
    "sum(pw)"
   ]
  },
  {
   "cell_type": "code",
   "execution_count": 31,
   "id": "a90c9ee2",
   "metadata": {},
   "outputs": [
    {
     "data": {
      "text/plain": [
       "[0.20000000000000367, 0.2999999999999941, 0.5000000000000163]"
      ]
     },
     "execution_count": 31,
     "metadata": {},
     "output_type": "execute_result"
    }
   ],
   "source": [
    "[sum(c*pw) for c in conds]"
   ]
  },
  {
   "cell_type": "code",
   "execution_count": 32,
   "id": "311f0708",
   "metadata": {},
   "outputs": [
    {
     "name": "stdout",
     "output_type": "stream",
     "text": [
      "{0: 0.6561, 1: 0.2916, 2: 0.0486, 3: 0.0036, 4: 0.0001}\n"
     ]
    }
   ],
   "source": [
    "conds = [0, 1, 2, 3, 4]\n",
    "vals = [0.6561, 0.2916, 0.0486, 0.0036, 0.0001]\n",
    "digi_chan = {cond: val for cond, val in zip(conds,vals)}\n",
    "print(digi_chan)"
   ]
  },
  {
   "cell_type": "markdown",
   "id": "6b894ed0",
   "metadata": {},
   "source": [
    "# Print to PDF"
   ]
  },
  {
   "cell_type": "code",
   "execution_count": null,
   "id": "304281de",
   "metadata": {},
   "outputs": [],
   "source": [
    "os.system(\"jupyter nbconvert --to pdf module-1.ipynb\")"
   ]
  }
 ],
 "metadata": {
  "kernelspec": {
   "display_name": "Python 3",
   "language": "python",
   "name": "python3"
  },
  "language_info": {
   "codemirror_mode": {
    "name": "ipython",
    "version": 3
   },
   "file_extension": ".py",
   "mimetype": "text/x-python",
   "name": "python",
   "nbconvert_exporter": "python",
   "pygments_lexer": "ipython3",
   "version": "3.8.11"
  }
 },
 "nbformat": 4,
 "nbformat_minor": 5
}
